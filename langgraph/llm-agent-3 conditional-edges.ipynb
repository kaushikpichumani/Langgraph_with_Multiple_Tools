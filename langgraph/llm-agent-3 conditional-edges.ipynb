{
 "cells": [
  {
   "cell_type": "code",
   "execution_count": 321,
   "id": "af8e8712",
   "metadata": {},
   "outputs": [
    {
     "data": {
      "text/plain": [
       "True"
      ]
     },
     "execution_count": 321,
     "metadata": {},
     "output_type": "execute_result"
    }
   ],
   "source": [
    "from langchain_community.document_loaders import TextLoader,DirectoryLoader\n",
    "from langchain_community.vectorstores import Chroma\n",
    "from langchain.text_splitter import RecursiveCharacterTextSplitter\n",
    "from langchain_core.runnables import RunnablePassthrough\n",
    "from langchain_core.messages import HumanMessage,AIMessage\n",
    "from langchain_core.output_parsers import StrOutputParser\n",
    "from langchain_google_genai import ChatGoogleGenerativeAI\n",
    "from langchain_huggingface import HuggingFaceEmbeddings\n",
    "from langchain.output_parsers import PydanticOutputParser\n",
    "from typing import TypedDict,Annotated,Sequence,List\n",
    "from langchain_core.messages import BaseMessage\n",
    "from langchain_core.prompts import PromptTemplate\n",
    "from langchain_community.tools import DuckDuckGoSearchRun\n",
    "from langchain.agents import AgentExecutor, create_react_agent\n",
    "from langchain_community.tools.tavily_search import TavilySearchResults\n",
    "from langgraph.graph import StateGraph,END\n",
    "import operator\n",
    "from pydantic import BaseModel,Field\n",
    "import os\n",
    "from dotenv import load_dotenv\n",
    "\n",
    "\n",
    "\n",
    "# Load environment variables from .env file\n",
    "load_dotenv()"
   ]
  },
  {
   "cell_type": "code",
   "execution_count": 322,
   "id": "8c71f868",
   "metadata": {},
   "outputs": [
    {
     "name": "stdout",
     "output_type": "stream",
     "text": [
      "all ok\n"
     ]
    }
   ],
   "source": [
    "print(\"all ok\")"
   ]
  },
  {
   "cell_type": "markdown",
   "id": "4281cde3",
   "metadata": {},
   "source": [
    "### select model"
   ]
  },
  {
   "cell_type": "code",
   "execution_count": 323,
   "id": "22300bdf",
   "metadata": {},
   "outputs": [
    {
     "name": "stdout",
     "output_type": "stream",
     "text": [
      "Hi there! How can I help you today?\n"
     ]
    }
   ],
   "source": [
    "\n",
    "os.environ[\"GOOGLE_API_KEY\"] = os.getenv(\"GOOGLE_API_KEY\")\n",
    "model = ChatGoogleGenerativeAI(model = \"gemini-1.5-flash\")\n",
    "output = model.invoke(\"hi\")\n",
    "print(output.content)"
   ]
  },
  {
   "cell_type": "markdown",
   "id": "a1fc0089",
   "metadata": {},
   "source": [
    "### conf embedding model"
   ]
  },
  {
   "cell_type": "code",
   "execution_count": 324,
   "id": "7b4f9bad",
   "metadata": {},
   "outputs": [
    {
     "data": {
      "text/plain": [
       "384"
      ]
     },
     "execution_count": 324,
     "metadata": {},
     "output_type": "execute_result"
    }
   ],
   "source": [
    "\n",
    "embeddings = HuggingFaceEmbeddings(model_name = \"BAAI/bge-small-en\")\n",
    "len(embeddings.embed_query(\"hi\"))"
   ]
  },
  {
   "cell_type": "code",
   "execution_count": 325,
   "id": "a6fa7d40",
   "metadata": {},
   "outputs": [],
   "source": [
    "loader = DirectoryLoader(\"../data\",glob=\"./*.txt\",loader_cls=TextLoader)"
   ]
  },
  {
   "cell_type": "code",
   "execution_count": 326,
   "id": "88927310",
   "metadata": {},
   "outputs": [],
   "source": [
    "docs = loader.load()"
   ]
  },
  {
   "cell_type": "code",
   "execution_count": 327,
   "id": "9ab6c931",
   "metadata": {},
   "outputs": [
    {
     "data": {
      "text/plain": [
       "[Document(metadata={'source': '../data/usa.txt'}, page_content=\"🇺🇸 Overview of the U.S. Economy\\nThe United States of America possesses the largest economy in the world in terms of nominal GDP, making it the most powerful economic force globally. It operates under a capitalist mixed economy, where the private sector dominates, but the government plays a significant regulatory and fiscal role. With a population of over 335 million people and a high level of technological advancement, the U.S. economy thrives on a foundation of consumer spending, innovation, global trade, and financial services. It has a highly diversified structure with strong sectors in technology, healthcare, finance, real estate, defense, and agriculture.\\n\\nU.S. GDP – Size, Composition, and Global Share\\nAs of 2024, the United States’ nominal GDP is estimated to be around $28 trillion USD, accounting for approximately 25% of the global economy. It ranks #1 in the world by nominal GDP, far ahead of China (which ranks 2nd). The U.S. GDP per capita is also among the highest, hovering around $83,000, which indicates a high standard of living and productivity. In terms of Purchasing Power Parity (PPP), the U.S. ranks second, but nominal GDP is considered more reflective of actual economic size and financial influence.\\n\\nThe GDP is predominantly driven by the services sector, which contributes more than 77% to the total GDP. This includes industries such as finance, insurance, real estate, healthcare, education, and information technology. The industrial sector (manufacturing, construction, mining) makes up around 19%, while agriculture, although technologically advanced and export-oriented, contributes only about 1%. Despite its small share in GDP, U.S. agriculture is globally significant in terms of productivity and exports.\\n\\nGDP Growth Trends and Dynamics\\nHistorically, the U.S. economy has enjoyed consistent long-term growth, averaging around 2-3% annually. Post-pandemic, the economy bounced back strongly, but 2022 and 2023 saw rising inflation due to supply chain issues and stimulus-driven demand. In 2024, the U.S. GDP grew at a modest pace of around 2.1%, as the Federal Reserve’s interest rate hikes aimed at controlling inflation also moderated economic expansion. Consumer spending, which makes up nearly 70% of GDP, remains a dominant force in economic stability.\\n\\nThe U.S. maintains its GDP growth through strong innovation, entrepreneurship, and investment in R&D. With companies like Apple, Google, Amazon, Microsoft, and Tesla leading global markets, the U.S. consistently produces high value across sectors, especially in technology and advanced services. Additionally, the economy benefits from intellectual property exports, financial services, and higher education, all of which contribute significantly to GDP through both domestic and international markets.\\n\\nRole in the Global Economy\\nThe U.S. Dollar (USD) is the global reserve currency, held by over 60% of the world’s central bank reserves. This gives the U.S. an enormous advantage in global trade and borrowing. The U.S. is a key member of international institutions like the World Bank, IMF, G7, G20, and WTO, and plays a central role in setting global economic policy.\\n\\nAs a global innovation hub, the U.S. attracts billions in foreign investment and hosts many of the world's largest and most valuable companies. Its exports include high-tech machinery, aircraft, pharmaceuticals, semiconductors, and financial services, while its imports cover consumer goods, electronics, automobiles, and industrial materials. The trade deficit remains large (around $900 billion in 2024), primarily because the U.S. consumes more than it exports, but its ability to finance this through capital inflows and reserve currency status sustains balance.\\n\\nKey Economic Strengths\\nThe core strength of the U.S. economy lies in its flexible labor market, deep capital markets, technological superiority, and legal system that encourages innovation and property rights. It has a large, highly educated workforce, a diverse immigration pipeline, and access to vast natural resources including oil, gas, coal, and farmland. The presence of top-tier universities and research institutions fuels the knowledge economy, with billions spent annually on R&D—over $700 billion USD, more than any other country.\\n\\nThe U.S. leads in many critical sectors, including software, biotechnology, aerospace, defense, financial services, and media. Its startup ecosystem, especially in Silicon Valley, produces unicorns and tech giants at a scale unmatched globally. Its financial markets—particularly Wall Street—are the most liquid and globally integrated in the world.\\n\\nChallenges and Structural Issues\\nDespite its strength, the U.S. economy faces several serious long-term issues. The national debt has surpassed $34 trillion USD, raising concerns about fiscal sustainability, especially as interest payments alone are growing rapidly. The income and wealth inequality gap has widened, with a small percentage of Americans owning a disproportionate share of wealth. Access to affordable healthcare, housing shortages, and a declining labor force participation in some sectors are additional structural issues.\\n\\nAnother growing concern is political polarization, which often stalls crucial economic reforms and budget agreements, as seen in recurrent debt ceiling crises. The U.S. also faces challenges from global competition, especially from China in areas like AI, semiconductors, and green technology. Moreover, climate change, cybersecurity threats, and geopolitical risks (like Ukraine and Taiwan conflicts) add layers of vulnerability to economic planning.\\n\\nFuture Outlook (2025–2030)\\nLooking forward, the U.S. economy is expected to grow at a moderate pace, powered by innovation in AI, green energy, robotics, biotech, and quantum computing. The Biden administration’s Inflation Reduction Act and CHIPS Act are pumping massive investments into semiconductors, clean energy, and infrastructure. There is a strong push for reshoring of manufacturing, especially in critical sectors like chips, pharmaceuticals, and batteries.\\n\\nHowever, economic leadership will depend on managing the national debt, reforming entitlement programs, upgrading infrastructure, and ensuring the next generation is equipped with digital-age skills. If the U.S. can handle these challenges, it is well-positioned to remain a global economic powerhouse through 2030 and beyond.\\n\\nFinal Summary\\nThe U.S. economy remains the engine of global growth, backed by unmatched innovation, financial dominance, and a strong institutional framework. Its $28 trillion GDP and influence over global finance, trade, and technology make it the centerpiece of the modern economic system. Yet, rising debt, inequality, political gridlock, and competition from emerging powers demand careful policy navigation. If successfully addressed, the U.S. will continue to dominate the global economy well into the future.\")]"
      ]
     },
     "execution_count": 327,
     "metadata": {},
     "output_type": "execute_result"
    }
   ],
   "source": [
    "## entire doc is in the doc. we need to do chunking\n",
    "docs"
   ]
  },
  {
   "cell_type": "code",
   "execution_count": 328,
   "id": "e90e9f50",
   "metadata": {},
   "outputs": [
    {
     "data": {
      "text/plain": [
       "\"🇺🇸 Overview of the U.S. Economy\\nThe United States of America possesses the largest economy in the world in terms of nominal GDP, making it the most powerful economic force globally. It operates under a capitalist mixed economy, where the private sector dominates, but the government plays a significant regulatory and fiscal role. With a population of over 335 million people and a high level of technological advancement, the U.S. economy thrives on a foundation of consumer spending, innovation, global trade, and financial services. It has a highly diversified structure with strong sectors in technology, healthcare, finance, real estate, defense, and agriculture.\\n\\nU.S. GDP – Size, Composition, and Global Share\\nAs of 2024, the United States’ nominal GDP is estimated to be around $28 trillion USD, accounting for approximately 25% of the global economy. It ranks #1 in the world by nominal GDP, far ahead of China (which ranks 2nd). The U.S. GDP per capita is also among the highest, hovering around $83,000, which indicates a high standard of living and productivity. In terms of Purchasing Power Parity (PPP), the U.S. ranks second, but nominal GDP is considered more reflective of actual economic size and financial influence.\\n\\nThe GDP is predominantly driven by the services sector, which contributes more than 77% to the total GDP. This includes industries such as finance, insurance, real estate, healthcare, education, and information technology. The industrial sector (manufacturing, construction, mining) makes up around 19%, while agriculture, although technologically advanced and export-oriented, contributes only about 1%. Despite its small share in GDP, U.S. agriculture is globally significant in terms of productivity and exports.\\n\\nGDP Growth Trends and Dynamics\\nHistorically, the U.S. economy has enjoyed consistent long-term growth, averaging around 2-3% annually. Post-pandemic, the economy bounced back strongly, but 2022 and 2023 saw rising inflation due to supply chain issues and stimulus-driven demand. In 2024, the U.S. GDP grew at a modest pace of around 2.1%, as the Federal Reserve’s interest rate hikes aimed at controlling inflation also moderated economic expansion. Consumer spending, which makes up nearly 70% of GDP, remains a dominant force in economic stability.\\n\\nThe U.S. maintains its GDP growth through strong innovation, entrepreneurship, and investment in R&D. With companies like Apple, Google, Amazon, Microsoft, and Tesla leading global markets, the U.S. consistently produces high value across sectors, especially in technology and advanced services. Additionally, the economy benefits from intellectual property exports, financial services, and higher education, all of which contribute significantly to GDP through both domestic and international markets.\\n\\nRole in the Global Economy\\nThe U.S. Dollar (USD) is the global reserve currency, held by over 60% of the world’s central bank reserves. This gives the U.S. an enormous advantage in global trade and borrowing. The U.S. is a key member of international institutions like the World Bank, IMF, G7, G20, and WTO, and plays a central role in setting global economic policy.\\n\\nAs a global innovation hub, the U.S. attracts billions in foreign investment and hosts many of the world's largest and most valuable companies. Its exports include high-tech machinery, aircraft, pharmaceuticals, semiconductors, and financial services, while its imports cover consumer goods, electronics, automobiles, and industrial materials. The trade deficit remains large (around $900 billion in 2024), primarily because the U.S. consumes more than it exports, but its ability to finance this through capital inflows and reserve currency status sustains balance.\\n\\nKey Economic Strengths\\nThe core strength of the U.S. economy lies in its flexible labor market, deep capital markets, technological superiority, and legal system that encourages innovation and property rights. It has a large, highly educated workforce, a diverse immigration pipeline, and access to vast natural resources including oil, gas, coal, and farmland. The presence of top-tier universities and research institutions fuels the knowledge economy, with billions spent annually on R&D—over $700 billion USD, more than any other country.\\n\\nThe U.S. leads in many critical sectors, including software, biotechnology, aerospace, defense, financial services, and media. Its startup ecosystem, especially in Silicon Valley, produces unicorns and tech giants at a scale unmatched globally. Its financial markets—particularly Wall Street—are the most liquid and globally integrated in the world.\\n\\nChallenges and Structural Issues\\nDespite its strength, the U.S. economy faces several serious long-term issues. The national debt has surpassed $34 trillion USD, raising concerns about fiscal sustainability, especially as interest payments alone are growing rapidly. The income and wealth inequality gap has widened, with a small percentage of Americans owning a disproportionate share of wealth. Access to affordable healthcare, housing shortages, and a declining labor force participation in some sectors are additional structural issues.\\n\\nAnother growing concern is political polarization, which often stalls crucial economic reforms and budget agreements, as seen in recurrent debt ceiling crises. The U.S. also faces challenges from global competition, especially from China in areas like AI, semiconductors, and green technology. Moreover, climate change, cybersecurity threats, and geopolitical risks (like Ukraine and Taiwan conflicts) add layers of vulnerability to economic planning.\\n\\nFuture Outlook (2025–2030)\\nLooking forward, the U.S. economy is expected to grow at a moderate pace, powered by innovation in AI, green energy, robotics, biotech, and quantum computing. The Biden administration’s Inflation Reduction Act and CHIPS Act are pumping massive investments into semiconductors, clean energy, and infrastructure. There is a strong push for reshoring of manufacturing, especially in critical sectors like chips, pharmaceuticals, and batteries.\\n\\nHowever, economic leadership will depend on managing the national debt, reforming entitlement programs, upgrading infrastructure, and ensuring the next generation is equipped with digital-age skills. If the U.S. can handle these challenges, it is well-positioned to remain a global economic powerhouse through 2030 and beyond.\\n\\nFinal Summary\\nThe U.S. economy remains the engine of global growth, backed by unmatched innovation, financial dominance, and a strong institutional framework. Its $28 trillion GDP and influence over global finance, trade, and technology make it the centerpiece of the modern economic system. Yet, rising debt, inequality, political gridlock, and competition from emerging powers demand careful policy navigation. If successfully addressed, the U.S. will continue to dominate the global economy well into the future.\""
      ]
     },
     "execution_count": 328,
     "metadata": {},
     "output_type": "execute_result"
    }
   ],
   "source": [
    "docs[0].page_content"
   ]
  },
  {
   "cell_type": "code",
   "execution_count": 329,
   "id": "2ecfa818",
   "metadata": {},
   "outputs": [],
   "source": [
    "text_splitter = RecursiveCharacterTextSplitter(\n",
    "    chunk_size = 200,\n",
    "    chunk_overlap = 50\n",
    ")"
   ]
  },
  {
   "cell_type": "code",
   "execution_count": 330,
   "id": "ab87c5ee",
   "metadata": {},
   "outputs": [],
   "source": [
    "new_docs = text_splitter.split_documents(documents=docs)"
   ]
  },
  {
   "cell_type": "code",
   "execution_count": 331,
   "id": "9ea72706",
   "metadata": {},
   "outputs": [],
   "source": [
    "doc_string = [doc.page_content for doc in docs]"
   ]
  },
  {
   "cell_type": "code",
   "execution_count": 332,
   "id": "0db89880",
   "metadata": {},
   "outputs": [],
   "source": [
    "db = Chroma.from_documents(new_docs,embeddings)"
   ]
  },
  {
   "cell_type": "code",
   "execution_count": 333,
   "id": "7aad0015",
   "metadata": {},
   "outputs": [],
   "source": [
    "retriever = db.as_retriever(search_kwargs = {\"k\":3})\n"
   ]
  },
  {
   "cell_type": "code",
   "execution_count": 334,
   "id": "33c850aa",
   "metadata": {},
   "outputs": [
    {
     "data": {
      "text/plain": [
       "[Document(metadata={'source': '../data/usa.txt'}, page_content='Looking forward, the U.S. economy is expected to grow at a moderate pace, powered by innovation in AI, green energy, robotics, biotech, and quantum computing. The Biden administration’s Inflation'),\n",
       " Document(metadata={'source': '../data/usa.txt'}, page_content='Looking forward, the U.S. economy is expected to grow at a moderate pace, powered by innovation in AI, green energy, robotics, biotech, and quantum computing. The Biden administration’s Inflation'),\n",
       " Document(metadata={'source': '../data/usa.txt'}, page_content='Looking forward, the U.S. economy is expected to grow at a moderate pace, powered by innovation in AI, green energy, robotics, biotech, and quantum computing. The Biden administration’s Inflation')]"
      ]
     },
     "execution_count": 334,
     "metadata": {},
     "output_type": "execute_result"
    }
   ],
   "source": [
    "retriever.invoke(\"industry growth in USA\")"
   ]
  },
  {
   "cell_type": "markdown",
   "id": "5b804b71",
   "metadata": {},
   "source": [
    "create pydantic"
   ]
  },
  {
   "cell_type": "code",
   "execution_count": 335,
   "id": "6789751a",
   "metadata": {},
   "outputs": [],
   "source": [
    "\n",
    "\n",
    "class TopicSelectionParser(BaseModel):\n",
    "    Topic:str = Field(descrition = \"Selected Topic\")\n",
    "    Reasoning:str = Field(descrition = \"Reasoning behind topic selection\")"
   ]
  },
  {
   "cell_type": "code",
   "execution_count": 336,
   "id": "9fa699b8",
   "metadata": {},
   "outputs": [],
   "source": [
    "parse = PydanticOutputParser(pydantic_object=TopicSelectionParser)"
   ]
  },
  {
   "cell_type": "code",
   "execution_count": 337,
   "id": "06523547",
   "metadata": {},
   "outputs": [
    {
     "data": {
      "text/plain": [
       "'The output should be formatted as a JSON instance that conforms to the JSON schema below.\\n\\nAs an example, for the schema {\"properties\": {\"foo\": {\"title\": \"Foo\", \"description\": \"a list of strings\", \"type\": \"array\", \"items\": {\"type\": \"string\"}}}, \"required\": [\"foo\"]}\\nthe object {\"foo\": [\"bar\", \"baz\"]} is a well-formatted instance of the schema. The object {\"properties\": {\"foo\": [\"bar\", \"baz\"]}} is not well-formatted.\\n\\nHere is the output schema:\\n```\\n{\"properties\": {\"Topic\": {\"descrition\": \"Selected Topic\", \"title\": \"Topic\", \"type\": \"string\"}, \"Reasoning\": {\"descrition\": \"Reasoning behind topic selection\", \"title\": \"Reasoning\", \"type\": \"string\"}}, \"required\": [\"Topic\", \"Reasoning\"]}\\n```'"
      ]
     },
     "execution_count": 337,
     "metadata": {},
     "output_type": "execute_result"
    }
   ],
   "source": [
    "parse.get_format_instructions()"
   ]
  },
  {
   "cell_type": "markdown",
   "id": "32b919e6",
   "metadata": {},
   "source": [
    "The output should be formatted as a JSON instance that conforms to the JSON schema below.\\n\\nAs an example, for the schema {\"properties\": {\"foo\": {\"title\": \"Foo\", \"description\": \"a list of strings\", \"type\": \"array\", \"items\": {\"type\": \"string\"}}}, \"required\": [\"foo\"]}\\nthe object {\"foo\": [\"bar\", \"baz\"]} is a well-formatted instance of the schema. The object {\"properties\": {\"foo\": [\"bar\", \"baz\"]}} is not well-formatted.\\n\\nHere is the output schema:\\n```\\n{\"properties\": {\"Topic\": {\"descrition\": \"Selected Topic\", \"title\": \"Topic\", \"type\": \"string\"}, \"Reasoning\": {\"descrition\": \"Reasoning behind topic selection\", \"title\": \"Reasoning\", \"type\": \"string\"}}, \"required\": [\"Topic\", \"Reasoning\"]}\\n```'"
   ]
  },
  {
   "cell_type": "code",
   "execution_count": 338,
   "id": "2eb131c8",
   "metadata": {},
   "outputs": [],
   "source": [
    "class AgentState(TypedDict):\n",
    "    messages :Annotated[Sequence[BaseMessage],operator.add]\n",
    "    validation_passs: bool\n",
    "    output:str\n"
   ]
  },
  {
   "cell_type": "code",
   "execution_count": 339,
   "id": "a175d740",
   "metadata": {},
   "outputs": [],
   "source": [
    "def function_1(state:AgentState):\n",
    "    #supervisor \n",
    "    # get the recent message\n",
    "\n",
    "    question = state['messages'][-1]\n",
    "    print(\"Question \",question)\n",
    "    template = \"\"\"\n",
    "        Your task is to classify the given user query into one of the following categories : \n",
    "        [AI: If the content in the users question is related to basics of Artificial Intelligence, \n",
    "        Basic : If the content in the users question is basic or conversational or doesn't need any real time information and not realted to any specific techniques,\n",
    "        Online : If the question asked by user needs information that happened recently or realtime other than basic AI and you won't have data related to the question]. \n",
    "        Only respond with category name and nothing else\n",
    "\n",
    "        User Query:{question}\n",
    "        {format_instructions}\n",
    "        \"\"\"\n",
    "    prompt = PromptTemplate(\n",
    "        template = template,\n",
    "        input_variable = [\"question\"],\n",
    "        partial_variables={\"format_instructions\":parse.get_format_instructions()}\n",
    "    )\n",
    "    chain = prompt | model | parse\n",
    "    response = chain.invoke({\"question\":question})\n",
    "    print(\"parsed response\",state)\n",
    "    return {\"message\":[response.Topic],\"validation_passs\":False}\n"
   ]
  },
  {
   "cell_type": "code",
   "execution_count": 340,
   "id": "2985f06d",
   "metadata": {},
   "outputs": [
    {
     "name": "stdout",
     "output_type": "stream",
     "text": [
      "Question  how are you?\n",
      "parsed response {'messages': ['how are you?'], 'validation_error': '', 'validation_passs': True, 'output': ''}\n"
     ]
    },
    {
     "data": {
      "text/plain": [
       "{'message': ['Basic'], 'validation_passs': False}"
      ]
     },
     "execution_count": 340,
     "metadata": {},
     "output_type": "execute_result"
    }
   ],
   "source": [
    "state = {\"messages\":[\"how are you?\"],\"validation_error\":\"\",\"validation_passs\":True,\"output\":\"\"}\n",
    "function_1(state)"
   ]
  },
  {
   "cell_type": "code",
   "execution_count": 341,
   "id": "e8a5f65c",
   "metadata": {},
   "outputs": [],
   "source": [
    "def router(state:AgentState):\n",
    "    print(\" -> Router\")\n",
    "    last_message = state[\"messages\"][-1]\n",
    "    print(\"last message is \",last_message)\n",
    "    if \"ai\" in last_message.lower():\n",
    "        return \"RAG Call\"\n",
    "    elif \"basic\" in last_message.lower():\n",
    "        return \"LLM Call\"\n",
    "    else:\n",
    "        return \"WEB Call\"\n",
    "\n"
   ]
  },
  {
   "cell_type": "code",
   "execution_count": 342,
   "id": "fc6037ae",
   "metadata": {},
   "outputs": [],
   "source": [
    "def format_docs(docs):\n",
    "    return \"\\n\\n\".join(doc.page_content for doc in docs)"
   ]
  },
  {
   "cell_type": "code",
   "execution_count": 343,
   "id": "25ffc6cf",
   "metadata": {},
   "outputs": [],
   "source": [
    "# RAG Function\n",
    "\n",
    "def function_2(state:AgentState):\n",
    "    print(\" -> RAG Call\")\n",
    "    question = state[\"messages\"][-1]\n",
    "    prompt = PromptTemplate(\n",
    "        template=\"\"\"You are an assistant for question-answering tasks. Use the following piece of retrieved context to answer the question. If you dont know the \n",
    "        answer, just say that you dont know. Use three sentences maximum and keep the answer concise. \\nQuestion:{question} \\Context {context} \\n Answer\"\"\",\n",
    "        input_variables=['context','question']\n",
    "\n",
    "    )\n",
    "    rag_chain = (\n",
    "        {\"context\":retriever | format_docs,\"question\":RunnablePassthrough()}\n",
    "        | prompt\n",
    "        | model\n",
    "        |StrOutputParser()\n",
    "    )\n",
    "    result = rag_chain.invoke(question)\n",
    "    return {\"output\":[result]}\n",
    "\n"
   ]
  },
  {
   "cell_type": "code",
   "execution_count": 344,
   "id": "efd79b53",
   "metadata": {},
   "outputs": [],
   "source": [
    "# LLM Function\n",
    "def function_3(state:AgentState):\n",
    "    print(\" -> LLM Call\")\n",
    "    question = state[\"messages\"][-1]\n",
    "    complete_query = \"Answer the following question with you knowledge of the real world. Following is the user question: \"+question\n",
    "    response = model.invoke(complete_query)\n",
    "    return {\"output\":[response.content]}"
   ]
  },
  {
   "cell_type": "code",
   "execution_count": 345,
   "id": "000d2915",
   "metadata": {},
   "outputs": [],
   "source": [
    "def function_4(state:AgentState):\n",
    "    print(\"-> Online Search\")\n",
    "    os.environ[\"TAVILY_API_KEY\"] = os.getenv(\"TAVILY_API_KEY\")\n",
    "    search_tool = TavilySearchResults(max_results=5)\n",
    "    #search = DuckDuckGoSearchRun()\n",
    "    tools = [search_tool]\n",
    "    question = state[\"messages\"][-1]\n",
    "\n",
    "    template = \"\"\"\n",
    "        You are a helpful assistant. You have access to the following tools:\n",
    "\n",
    "    {tools}\n",
    "\n",
    "    Use the following format:\n",
    "\n",
    "    Question: the input question you must answer\n",
    "    Thought: you should always think about what to do\n",
    "    Action: the action to take, should be one of [{tool_names}]\n",
    "    Action Input: the input to the action\n",
    "    Observation: the result of the action\n",
    "    ... (this Thought/Action/Action Input/Observation can repeat N times)\n",
    "    Thought: I now know the final answer\n",
    "    Final Answer: the final answer to the original input question\n",
    "\n",
    "    Begin!\n",
    "\n",
    "    User Query:{question}\n",
    "    Thought:{agent_scratchpad}\n",
    "        \"\"\"\n",
    "    \n",
    "    prompt = PromptTemplate(\n",
    "        template = template,\n",
    "        input_variable = [\"question\"],\n",
    "        partial_variables={\"format_instructions\":parse.get_format_instructions()}\n",
    "    )\n",
    "        # Create the agent\n",
    "    agent = create_react_agent(model, tools, prompt)\n",
    "\n",
    "    # Create an AgentExecutor to run the agent\n",
    "    agent_executor = AgentExecutor(agent=agent, tools=tools, verbose=True, handle_parsing_errors=True)\n",
    "    response = agent_executor.invoke({\"question\": state[\"messages\"][-1], \"tool_names\": \", \".join([tool.name for tool in tools]), \"tools\": tools})\n",
    "    return {\"output\":[response[\"output\"]]}\n",
    "    \n"
   ]
  },
  {
   "cell_type": "code",
   "execution_count": 346,
   "id": "e8f3ec56",
   "metadata": {},
   "outputs": [
    {
     "name": "stdout",
     "output_type": "stream",
     "text": [
      "-> Online Search\n",
      "\n",
      "\n",
      "\u001b[1m> Entering new AgentExecutor chain...\u001b[0m\n",
      "\u001b[32;1m\u001b[1;3mThought:I need to use the Tavily search API to find today's news in Ahmedabad.\n",
      "\n",
      "Action: tavily_search_results_json\n",
      "Action Input: \"today's news Ahmedabad\"\n",
      "\u001b[0m\u001b[36;1m\u001b[1;3m[{'title': 'Air India Plane Crash in Ahmedabad LIVE Updates', 'url': 'https://indianexpress.com/article/india/ahmedabad-plane-crash-live-updates-10062373/', 'content': '**Air India Plane Crash in Ahmedabad Today Live News Updates:**\\xa0**[Prime Minister Narendra Modi](https://indianexpress.com/article/cities/ahmedabad/modi-ahmedabad-air-india-flight-crash-boeing-hospital-visit-10064322/)**is in Ahmedabad today to take stock of the situation, a day after the deadly Boeing 787-8 Dreamliner crashed killing 241 onboard. He visited the accident site near the Ahmedabad airport and also met those injured, currently receiving treatment in the city’s Civil Hospital. He [...] # Air India Plane Crash in Ahmedabad LIVE Updates: PM Modi meets former Gujarat CM Vijay Rupani’s wife, family at airport after Boeing 787-8 crash site visit\\n\\n## Air India Ahmedabad Plane Crash Today Live News Updates: The Tata Group has announced Rs 1 crore compensation to each to the kin of victim, and the Air India will have to pay a compensation of around Rs 1.5 crore, as per the Montreal Convention treaty. [...] Moments after the crash, West Bengal Chief Minister Mamata Banerjee, expressing shock and grief, wrote on X: “Stunned and profoundly shocked to know of the most tragic Air India plane crash at Ahmedabad today. It is a most sad news for all of us and I convey my condolences to victim families, even while we anxiously wait for survivors details and pray for survival of all.”', 'score': 0.7668008}, {'title': 'Ahmedabad Plane Crash LIVE: Single Miracle Survivor Ramesh ...', 'url': 'https://www.youtube.com/watch?v=j57GE8Dg1MY', 'content': 'Ahmedabad Plane Crash Air India | Ahmedabad Airport Accident Today | Air India Flight Crash Ahmedabad | Passenger Plane Crash Ahmedabad | Ahmedabad Aviation Incident | Latest News Ahmedabad Plane Accident | Casualties Ahmedabad Plane Crash | 242 Passengers in Ahmedabad Plane Crash| Firstpost | News Live | World News | Latest News | Global News | International News | News | Trending News [...] #AhmedabadPlaneCrash #AirIndiaCrash #AhmedabadAirportAccident #AirIndiaFlightCrash #PassengerPlaneCrash #AhmedabadAviationIncident #AhmedabadPlaneAccidentNews #AhmedabadCrashCasualties #Ahmedabad242Passengers #ExclusivePlaneFootage #AirIndiaPlaneFell #AirportAccidentAhmedabad #firstpost #newslive #worldnews #latestnews #globalnews #news #internationalnews #trendingnews', 'score': 0.60666215}, {'title': \"Home Minister Amit Shah's Statement | Gujarat Plane Crash\", 'url': 'https://www.youtube.com/watch?v=I5xRhL4QLMQ', 'content': '---\\n\\nAhmedabad plane crash Air India | Ahmedabad airport accident today | Air India flight crash Ahmedabad | passenger plane crash Ahmedabad | Ahmedabad aviation incident | latest news Ahmedabad plane accident | casualties Ahmedabad plane crash Firstpost | News Live | World News | Latest News | Global News | International News | News | Trending News', 'score': 0.6018984}, {'title': '1 Survivor Found After Plane Crash By Ahmedabad Police', 'url': 'https://www.youtube.com/watch?v=XDzQco6NOSI', 'content': \"# Ahmedabad Plane Crash News LIVE: 1 Survivor Found After Plane Crash By Ahmedabad Police\\n\\nIndia Today\\n588 likes\\n225286 views\\n13 Jun 2025\\nAhmedabad Plane Crash News LIVE: 1 Survivor Found After Plane Crash By Ahmedabad Police\\n\\n#ahmedabadplanecrash #ahmedabadcrash #planecrashurvivor #airindiacrash #gujaratnews #ahmedabadnewslive #indiatodaylive #indiatodaylivestream \\n\\nSubscribe to India Today for NEW VIDEOS EVERY DAY and make sure to enable Push Notifications so you'll never miss a new video.\", 'score': 0.60077465}, {'title': '3 Doctors Dead After Plane Crashed Into Medical Hostel', 'url': 'https://www.youtube.com/watch?v=vZJ1sN6eSLI', 'content': \"# Ahmedabad Airplane Crash News LIVE: 3 Doctors Dead After Plane Crashed Into Medical Hostel\\n\\nIndia Today\\n117 likes\\n54850 views\\n13 Jun 2025\\nAhmedabad Airplane Crash News LIVE: 3 Doctors Dead After Plane Crashed Into Medical Hostel [...] An Air India flight to London crashed five minutes after take-off from the Ahmedabad airport on Thursday afternoon. The flight, a Boeing 787-8 Dreamliner, carried 242 people, including 230 passengers and 12 crew members. The plane crashed at a doctors' hostel in the Meghani area, a senior police officer said. \\n\\n#ahmedabadcrash #ahmedabadnews #ahmedabadplanecrash #ahmedabadairplanecrash #gurajatplanecrashnews #planecrashnewslive #planecrashnews #indiatodaylive #indiatodaylivestream\", 'score': 0.5874941}]\u001b[0m\u001b[32;1m\u001b[1;3mThought:I have received search results about a plane crash in Ahmedabad.  This seems to be dominating the news today. I will formulate an answer summarizing this.\n",
      "\n",
      "Thought:I now know the final answer\n",
      "\n",
      "Final Answer: Today's news in Ahmedabad is dominated by a major Air India plane crash that occurred near the Ahmedabad airport.  The crash resulted in numerous casualties, and rescue efforts are underway.  Prime Minister Narendra Modi has visited the crash site and met with injured individuals.  Various news sources are reporting on the incident, including updates on the number of casualties and the ongoing investigation.\n",
      "\u001b[0m\n",
      "\n",
      "\u001b[1m> Finished chain.\u001b[0m\n"
     ]
    },
    {
     "data": {
      "text/plain": [
       "{'output': [\"Today's news in Ahmedabad is dominated by a major Air India plane crash that occurred near the Ahmedabad airport.  The crash resulted in numerous casualties, and rescue efforts are underway.  Prime Minister Narendra Modi has visited the crash site and met with injured individuals.  Various news sources are reporting on the incident, including updates on the number of casualties and the ongoing investigation.\"]}"
      ]
     },
     "execution_count": 346,
     "metadata": {},
     "output_type": "execute_result"
    }
   ],
   "source": [
    "state = {\"messages\":[\"what is today's news in ahamedabad\"],\"validation_error\":\"\",\"validation_passsed\":0,\"output\":[]}\n",
    "function_4(state)"
   ]
  },
  {
   "cell_type": "code",
   "execution_count": 347,
   "id": "ecd19edc",
   "metadata": {},
   "outputs": [],
   "source": [
    "def validation(state:AgentState):\n",
    "    print(\" -> Validation\")\n",
    "    question = state[\"messages\"][-1]\n",
    "    answer = state[\"output\"]\n",
    "    print(question)\n",
    "    prompt = PromptTemplate(\n",
    "        template=\"\"\"You are an expert validator of the output. you will receive the users query{question} and the corresponding {answer} provided by the model. You will evaluate the output and give a final verdict saying answer is valid or not based on the context of response. I would want you to give the output as \n",
    "        False : for valid result\n",
    "        True : being not valid\n",
    "        ]\n",
    "        \"\"\",\n",
    "        input_variables=['question','output']\n",
    "\n",
    "    )\n",
    "    chain = prompt | model\n",
    "    response = chain.invoke({\"question\":question,\"answer\":answer})\n",
    "    print(response.content)\n",
    "    return {\"validation_passs\":response.content}"
   ]
  },
  {
   "cell_type": "code",
   "execution_count": 348,
   "id": "588e6042",
   "metadata": {},
   "outputs": [
    {
     "name": "stdout",
     "output_type": "stream",
     "text": [
      " -> Validation\n",
      "what is today's weather in ahamedabad\n",
      "True\n"
     ]
    },
    {
     "data": {
      "text/plain": [
       "{'validation_passs': 'True'}"
      ]
     },
     "execution_count": 348,
     "metadata": {},
     "output_type": "execute_result"
    }
   ],
   "source": [
    "state = {\"messages\":[\"what is today's weather in ahamedabad\"],\"validation_error\":\"\",\"validation_passsed\":0,\"output\":[\"Today's major news in Ahmedabad is a devastating Air India plane crash that resulted in numerous fatalities.  Multiple news sources are reporting on the incident, including details about the crash, the ongoing investigation, and the response from officials.\"]}\n",
    "validation(state)"
   ]
  },
  {
   "cell_type": "code",
   "execution_count": 371,
   "id": "dca4e717",
   "metadata": {},
   "outputs": [],
   "source": [
    "def validation_router(state:AgentState):\n",
    "    print(\" -> Validation_Router\")\n",
    "    last_message = state[\"messages\"][-1]\n",
    "    validation = state[\"validation_passs\"]\n",
    "    print(\"validation is \",validation)\n",
    "    print(validation)\n",
    "    if validation :\n",
    "        return \"END\"\n",
    "    \n",
    "    else:\n",
    "        return \"Supervisor\""
   ]
  },
  {
   "cell_type": "code",
   "execution_count": 372,
   "id": "d3ee887d",
   "metadata": {},
   "outputs": [],
   "source": [
    "def final_msg(state:AgentState):\n",
    "    return {\"messages\":state[\"output\"]}"
   ]
  },
  {
   "cell_type": "code",
   "execution_count": 373,
   "id": "b370a366",
   "metadata": {},
   "outputs": [
    {
     "name": "stdout",
     "output_type": "stream",
     "text": [
      " -> Validation_Router\n",
      "validation is  False\n",
      "False\n"
     ]
    },
    {
     "data": {
      "text/plain": [
       "'Supervisor'"
      ]
     },
     "execution_count": 373,
     "metadata": {},
     "output_type": "execute_result"
    }
   ],
   "source": [
    "state = {\"messages\":[\"\"],'validation_passs': False}\n",
    "validation_router(state)"
   ]
  },
  {
   "cell_type": "code",
   "execution_count": 374,
   "id": "a6b6c42a",
   "metadata": {},
   "outputs": [],
   "source": [
    "workflow = StateGraph(AgentState)"
   ]
  },
  {
   "cell_type": "code",
   "execution_count": 375,
   "id": "833aba6d",
   "metadata": {},
   "outputs": [
    {
     "data": {
      "text/plain": [
       "<langgraph.graph.state.StateGraph at 0x1601f14d0>"
      ]
     },
     "execution_count": 375,
     "metadata": {},
     "output_type": "execute_result"
    }
   ],
   "source": [
    "workflow.add_node(\"Supervisor\",function_1)"
   ]
  },
  {
   "cell_type": "code",
   "execution_count": 376,
   "id": "91c2141d",
   "metadata": {},
   "outputs": [
    {
     "data": {
      "text/plain": [
       "<langgraph.graph.state.StateGraph at 0x1601f14d0>"
      ]
     },
     "execution_count": 376,
     "metadata": {},
     "output_type": "execute_result"
    }
   ],
   "source": [
    "workflow.add_node(\"RAG\",function_2)"
   ]
  },
  {
   "cell_type": "code",
   "execution_count": 377,
   "id": "bcad004a",
   "metadata": {},
   "outputs": [
    {
     "data": {
      "text/plain": [
       "<langgraph.graph.state.StateGraph at 0x1601f14d0>"
      ]
     },
     "execution_count": 377,
     "metadata": {},
     "output_type": "execute_result"
    }
   ],
   "source": [
    "workflow.add_node(\"LLM\",function_3)"
   ]
  },
  {
   "cell_type": "code",
   "execution_count": 378,
   "id": "a3fc24ec",
   "metadata": {},
   "outputs": [
    {
     "data": {
      "text/plain": [
       "<langgraph.graph.state.StateGraph at 0x1601f14d0>"
      ]
     },
     "execution_count": 378,
     "metadata": {},
     "output_type": "execute_result"
    }
   ],
   "source": [
    "workflow.add_node(\"WEB\",function_4)"
   ]
  },
  {
   "cell_type": "code",
   "execution_count": 379,
   "id": "3f2a0325",
   "metadata": {},
   "outputs": [
    {
     "data": {
      "text/plain": [
       "<langgraph.graph.state.StateGraph at 0x1601f14d0>"
      ]
     },
     "execution_count": 379,
     "metadata": {},
     "output_type": "execute_result"
    }
   ],
   "source": [
    "workflow.add_node(\"Validation\",validation)"
   ]
  },
  {
   "cell_type": "code",
   "execution_count": 380,
   "id": "be16683e",
   "metadata": {},
   "outputs": [
    {
     "data": {
      "text/plain": [
       "<langgraph.graph.state.StateGraph at 0x1601f14d0>"
      ]
     },
     "execution_count": 380,
     "metadata": {},
     "output_type": "execute_result"
    }
   ],
   "source": [
    "workflow.add_node(\"END\",final_msg)"
   ]
  },
  {
   "cell_type": "code",
   "execution_count": 381,
   "id": "424fc720",
   "metadata": {},
   "outputs": [
    {
     "data": {
      "text/plain": [
       "<langgraph.graph.state.StateGraph at 0x1601f14d0>"
      ]
     },
     "execution_count": 381,
     "metadata": {},
     "output_type": "execute_result"
    }
   ],
   "source": [
    "workflow.set_entry_point(\"Supervisor\")"
   ]
  },
  {
   "cell_type": "code",
   "execution_count": 382,
   "id": "f95218d0",
   "metadata": {},
   "outputs": [
    {
     "data": {
      "text/plain": [
       "<langgraph.graph.state.StateGraph at 0x1601f14d0>"
      ]
     },
     "execution_count": 382,
     "metadata": {},
     "output_type": "execute_result"
    }
   ],
   "source": [
    "workflow.add_conditional_edges(\n",
    "    \"Supervisor\",\n",
    "    router,\n",
    "    {\n",
    "        \"RAG Call\":\"RAG\",\n",
    "        \"LLM Call\" :\"LLM\",\n",
    "        \"WEB Call\" :\"WEB\"\n",
    "    }\n",
    ")"
   ]
  },
  {
   "cell_type": "code",
   "execution_count": 383,
   "id": "e60a212e",
   "metadata": {},
   "outputs": [
    {
     "data": {
      "text/plain": [
       "<langgraph.graph.state.StateGraph at 0x1601f14d0>"
      ]
     },
     "execution_count": 383,
     "metadata": {},
     "output_type": "execute_result"
    }
   ],
   "source": [
    "workflow.add_edge(\"RAG\",\"Validation\")\n",
    "workflow.add_edge(\"LLM\",\"Validation\")\n",
    "workflow.add_edge(\"WEB\",\"Validation\")\n",
    "\n",
    "# Conditional routing from validator based on validation_passed\n",
    "workflow.add_conditional_edges(\n",
    "    \"Validation\",\n",
    "    validation_router,\n",
    "    {\n",
    "        \"END\" : \"END\",\n",
    "        \"Supervisor\" :\"Supervisor\",\n",
    "        \n",
    "    }\n",
    ")\n",
    "workflow.add_edge(\"END\",END)\n"
   ]
  },
  {
   "cell_type": "code",
   "execution_count": 384,
   "id": "7b39a5de",
   "metadata": {},
   "outputs": [
    {
     "data": {
      "image/png": "[encoded data removed]",
      "text/plain": [
       "<langgraph.graph.state.CompiledStateGraph object at 0x1601220d0>"
      ]
     },
     "execution_count": 384,
     "metadata": {},
     "output_type": "execute_result"
    }
   ],
   "source": [
    "workflow.compile()"
   ]
  },
  {
   "cell_type": "code",
   "execution_count": 385,
   "id": "326ee357",
   "metadata": {},
   "outputs": [],
   "source": [
    "app = workflow.compile()"
   ]
  },
  {
   "cell_type": "code",
   "execution_count": 386,
   "id": "acacd1d3",
   "metadata": {},
   "outputs": [
    {
     "name": "stdout",
     "output_type": "stream",
     "text": [
      "Question  what is the population of USA\n",
      "parsed response {'messages': ['what is the population of USA']}\n",
      " -> Router\n",
      "last message is  what is the population of USA\n",
      "-> Online Search\n",
      "\n",
      "\n",
      "\u001b[1m> Entering new AgentExecutor chain...\u001b[0m\n",
      "\u001b[32;1m\u001b[1;3mThought:I need to find the population of the USA.  I can use the Tavily search tool to find this information.\n",
      "\n",
      "Action: tavily_search_results_json\n",
      "Action Input: \"population of USA\"\n",
      "\u001b[0m\u001b[36;1m\u001b[1;3m[{'title': 'Demographics of the United States - Wikipedia', 'url': 'https://en.wikipedia.org/wiki/Demographics_of_the_United_States', 'content': 'The [United States](/wiki/United_States \"United States\") is the [third most populous country](/wiki/List_of_countries_and_dependencies_by_population \"List of countries and dependencies by population\") in the world, and the [most populous in the Americas](/wiki/List_of_countries_in_the_Americas_by_population \"List of countries in the Americas by population\") and the [Western Hemisphere](/wiki/Western_Hemisphere \"Western Hemisphere\"), with an estimated population of 340,110,988 on July 1, 2024, [...] | Demographics of the [United States](/wiki/United_States \"United States\") | |\\n| --- | --- |\\n| [Population pyramid](/wiki/Population_pyramid \"Population pyramid\") of the [United States](/wiki/United_States \"United States\") in 2023 | |\\n| Population | Increase 340,110,988 (2024 estimate)[[1]](#cite_note-Vintage_2024-1)  331,449,281 (2020 census)[[2]](#cite_note-United_States_Census-2) |\\n| Density | 86.16/sq\\xa0mi (33.27/km2) | [...] | Hispanic or Latino and Race | Population (2022 est.) | Percentage of total   population |\\n| --- | --- | --- |\\n| United States population | 333,287,550 | 100% |\\n| Hispanic or Latino (of any race) | 63,553,640 | 19.1% |\\n| White | 10,735,941 | 3.2% |\\n| Black or African American | 1,020,695 | 0.3% |\\n| American Indian and Alaska Native | 1,454,842 | 0.4% |\\n| Asian | 181,231 | 0.1% |\\n| Native Hawaiian and Other Pacific Islander | 75,468 | 0.0% |\\n| Some other race | 22,531,802 | 6.8% |', 'score': 0.8173562}, {'title': 'United States Population (2025) - Worldometer', 'url': 'https://www.worldometers.info/world-population/us-population/', 'content': '| 2015 | 326,126,497 | 0.95% | 3,012,741 | 1,722,127 | 36.4 | 1.83 | 36 | 80.1% | 261,287,811 | 4.37% | 7,470,491,872 | 3 |\\n| 2010 | 311,062,790 | 1.02% | 3,069,225 | 1,594,453 | 35.9 | 1.92 | 34 | 80.1% | 249,297,076 | 4.43% | 7,021,732,148 | 3 |\\n| 2005 | 295,716,664 | 0.99% | 2,846,507 | 1,369,224 | 35.2 | 2.04 | 32 | 79.8% | 235,892,407 | 4.49% | 6,586,970,132 | 3 |\\n| 2000 | 281,484,131 | 0.97% | 2,655,667 | 1,248,392 | 34.3 | 2.03 | 31 | 79.2% | 222,927,913 | 4.56% | 6,171,702,993 | 3 | [...] | 2024 | 345,426,571 | 0.57% | 1,949,236 | 1,286,132 | 38.3 | 1.62 | 38 | 82.4% | 284,698,234 | 4.23% | 8,161,972,572 | 3 |\\n| 2023 | 343,477,335 | 0.57% | 1,943,289 | 1,322,668 | 38 | 1.62 | 38 | 82.1% | 281,984,165 | 4.24% | 8,091,734,930 | 3 |\\n| 2022 | 341,534,046 | 0.31% | 1,048,944 | 1,319,009 | 37.7 | 1.67 | 37 | 81.8% | 279,286,931 | 4.26% | 8,021,407,192 | 3 |\\n| 2020 | 339,436,159 | 0.8% | 2,661,932 | 329,769 | 37.2 | 1.62 | 37 | 80.7% | 273,975,139 | 4.30% | 7,887,001,292 | 3 | [...] | 1955 | 166,200,024 | 1.51% | 2,399,469 | 18,234 | 29 | 3.52 | 18 | 69.4% | 115,375,863 | 6.07% | 2,740,213,792 | 3 |', 'score': 0.7316155}]\u001b[0m\u001b[32;1m\u001b[1;3mThought:I have received search results from Tavily. I need to extract the population from one of the results.  The first result from Wikipedia seems most reliable.\n",
      "\n",
      "Thought:I will extract the population number from the Wikipedia result.\n",
      "\n",
      "Thought:I now know the final answer.\n",
      "\n",
      "Final Answer:The estimated population of the USA as of July 1, 2024, is 340,110,988.\n",
      "\u001b[0m\n",
      "\n",
      "\u001b[1m> Finished chain.\u001b[0m\n",
      " -> Validation\n",
      "what is the population of USA\n",
      "False\n",
      " -> Validation_Router\n",
      "validation is  False\n",
      "False\n"
     ]
    },
    {
     "data": {
      "text/plain": [
       "{'messages': ['what is the population of USA',\n",
       "  'The estimated population of the USA as of July 1, 2024, is 340,110,988.'],\n",
       " 'validation_passs': 'False',\n",
       " 'output': ['The estimated population of the USA as of July 1, 2024, is 340,110,988.']}"
      ]
     },
     "execution_count": 386,
     "metadata": {},
     "output_type": "execute_result"
    }
   ],
   "source": [
    "state = {\"messages\":[\"what is the population of USA\"]}\n",
    "app.invoke(state)"
   ]
  },
  {
   "cell_type": "code",
   "execution_count": 387,
   "id": "0bbb1037",
   "metadata": {},
   "outputs": [
    {
     "name": "stdout",
     "output_type": "stream",
     "text": [
      "Question  who invented mathematics\n",
      "parsed response {'messages': ['who invented mathematics']}\n",
      " -> Router\n",
      "last message is  who invented mathematics\n",
      "-> Online Search\n",
      "\n",
      "\n",
      "\u001b[1m> Entering new AgentExecutor chain...\u001b[0m\n",
      "\u001b[32;1m\u001b[1;3mThought:I need to find information about the origins of mathematics.  It's unlikely a single person invented it, as it developed over time and across cultures.  I'll use Tavily Search to find information on the history of mathematics.\n",
      "\n",
      "Action: tavily_search_results_json\n",
      "Action Input: \"history of mathematics\"\n",
      "\u001b[0m\u001b[36;1m\u001b[1;3m[{'title': 'History of mathematics - Wikipedia', 'url': 'https://en.wikipedia.org/wiki/History_of_mathematics', 'content': 'The **history of mathematics** deals with the origin of discoveries in [mathematics](https://en.wikipedia.org/wiki/Mathematics \"Mathematics\") and the [mathematical methods and notation of the past](https://en.wikipedia.org/wiki/History_of_mathematical_notation \"History of mathematical notation\"). Before the [modern age](https://en.wikipedia.org/wiki/Modern_age \"Modern age\") and the worldwide spread of knowledge, written examples of new mathematical developments have come to light only in a few [...] 50.  **[^](https://en.wikipedia.org/wiki/History_of_mathematics#cite_ref-50)** David E. Smith (1958), _History of Mathematics, Volume I: General Survey of the History of Elementary Mathematics_, New York: Dover Publications (a reprint of the 1951 publication), [ISBN](https://en.wikipedia.org/wiki/ISBN_(identifier) \"ISBN (identifier)\")\\xa0[0-486-20429-4](https://en.wikipedia.org/wiki/Special:BookSources/0-486-20429-4 \"Special:BookSources/0-486-20429-4\"), pp. 58, 129. [...] 51.  **[^](https://en.wikipedia.org/wiki/History_of_mathematics#cite_ref-51)** Smith, David E. (1958). _History of Mathematics, Volume I: General Survey of the History of Elementary Mathematics_, New York: Dover Publications (a reprint of the 1951 publication), [ISBN](https://en.wikipedia.org/wiki/ISBN_(identifier) \"ISBN (identifier)\")\\xa0[0-486-20429-4](https://en.wikipedia.org/wiki/Special:BookSources/0-486-20429-4 \"Special:BookSources/0-486-20429-4\"), p. 129.', 'score': 0.853046}]\u001b[0m\u001b[32;1m\u001b[1;3mThought:The Wikipedia article on the history of mathematics indicates that mathematics wasn't invented by a single person, but developed over a long period and across many cultures.  I have the answer.\n",
      "\n",
      "Final Answer: Mathematics wasn't invented by a single person.  It developed gradually over thousands of years across numerous cultures.\n",
      "\u001b[0m\n",
      "\n",
      "\u001b[1m> Finished chain.\u001b[0m\n",
      " -> Validation\n",
      "who invented mathematics\n",
      "False\n",
      " -> Validation_Router\n",
      "validation is  False\n",
      "False\n"
     ]
    },
    {
     "data": {
      "text/plain": [
       "{'messages': ['who invented mathematics',\n",
       "  \"Mathematics wasn't invented by a single person.  It developed gradually over thousands of years across numerous cultures.\"],\n",
       " 'validation_passs': 'False',\n",
       " 'output': [\"Mathematics wasn't invented by a single person.  It developed gradually over thousands of years across numerous cultures.\"]}"
      ]
     },
     "execution_count": 387,
     "metadata": {},
     "output_type": "execute_result"
    }
   ],
   "source": [
    "state = {\"messages\":[\"who invented mathematics\"]}\n",
    "app.invoke(state)"
   ]
  },
  {
   "cell_type": "code",
   "execution_count": null,
   "id": "4a27cd0c",
   "metadata": {},
   "outputs": [],
   "source": []
  },
  {
   "cell_type": "code",
   "execution_count": null,
   "id": "f5428d5b",
   "metadata": {},
   "outputs": [],
   "source": []
  }
 ],
 "metadata": {
  "kernelspec": {
   "display_name": "venv_11",
   "language": "python",
   "name": "python3"
  },
  "language_info": {
   "codemirror_mode": {
    "name": "ipython",
    "version": 3
   },
   "file_extension": ".py",
   "mimetype": "text/x-python",
   "name": "python",
   "nbconvert_exporter": "python",
   "pygments_lexer": "ipython3",
   "version": "3.11.7"
  }
 },
 "nbformat": 4,
 "nbformat_minor": 5
}
